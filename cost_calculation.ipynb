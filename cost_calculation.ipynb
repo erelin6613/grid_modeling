{
 "cells": [
  {
   "cell_type": "markdown",
   "metadata": {},
   "source": [
    "### Consider a 5 year plan of operation"
   ]
  },
  {
   "cell_type": "code",
   "execution_count": 1,
   "metadata": {
    "scrolled": true
   },
   "outputs": [],
   "source": [
    "import pandas as pd\n",
    "import numpy as np"
   ]
  },
  {
   "cell_type": "code",
   "execution_count": 2,
   "metadata": {
    "scrolled": true
   },
   "outputs": [],
   "source": [
    "plan_years = 5"
   ]
  },
  {
   "cell_type": "code",
   "execution_count": 3,
   "metadata": {
    "scrolled": true
   },
   "outputs": [],
   "source": [
    "df = pd.DataFrame()"
   ]
  },
  {
   "cell_type": "code",
   "execution_count": 4,
   "metadata": {
    "scrolled": true
   },
   "outputs": [],
   "source": [
    "SP_capital_cost = 210 # solar panel cost\n",
    "SP_panels_number = 500 # number of solar panels\n",
    "SP_om_cost = 0.01*SP_capital_cost*SP_panels_number*plan_years # operation and maintanance const per year - 1%\n",
    "\n",
    "battery_cost = 18000\n",
    "batteries_number = 2\n",
    "battery_om_cost = 120*batteries_number*plan_years\n",
    "\n",
    "generator_cost = 15000\n",
    "generator_number = 2\n",
    "generator_fuel_consumption = 8.8 # m^3/hr\n",
    "generator_op_time = 3.5 * 30 * 24 * plan_years # in winter time (3 months + 1/2 emergency shortages)\n",
    "generator_om_cost = 110*generator_number*plan_years\n",
    "\n",
    "fuel_cost = 0.3 # per m^3"
   ]
  },
  {
   "cell_type": "code",
   "execution_count": 5,
   "metadata": {},
   "outputs": [
    {
     "data": {
      "text/plain": [
       "12600.0"
      ]
     },
     "execution_count": 5,
     "metadata": {},
     "output_type": "execute_result"
    }
   ],
   "source": [
    "generator_op_time"
   ]
  },
  {
   "cell_type": "code",
   "execution_count": 6,
   "metadata": {
    "scrolled": true
   },
   "outputs": [],
   "source": [
    "df.loc['Materials', 'Value'] = fuel_cost*generator_fuel_consumption*generator_op_time\n",
    "df.loc['materials: natural gas', 'Value'] = df.loc['Materials', 'Value']"
   ]
  },
  {
   "cell_type": "code",
   "execution_count": 7,
   "metadata": {},
   "outputs": [],
   "source": [
    "df.loc['Equipment', 'Value'] = (SP_capital_cost*SP_panels_number) +(\n",
    "    battery_cost*batteries_number) + (generator_cost*generator_number)\n",
    "df.loc['solar panels', 'Value'] = SP_capital_cost*SP_panels_number\n",
    "df.loc['generators', 'Value'] = generator_cost*generator_number\n",
    "df.loc['batteries', 'Value'] = battery_cost*batteries_number"
   ]
  },
  {
   "cell_type": "code",
   "execution_count": 8,
   "metadata": {},
   "outputs": [],
   "source": [
    "df.loc['Labor', 'Value'] = df.loc['Equipment', 'Value']*5*0.01\n",
    "df.loc['installation and maintenance', 'Value'] = df.loc['Labor', 'Value']"
   ]
  },
  {
   "cell_type": "code",
   "execution_count": 9,
   "metadata": {},
   "outputs": [
    {
     "data": {
      "text/html": [
       "<div>\n",
       "<style scoped>\n",
       "    .dataframe tbody tr th:only-of-type {\n",
       "        vertical-align: middle;\n",
       "    }\n",
       "\n",
       "    .dataframe tbody tr th {\n",
       "        vertical-align: top;\n",
       "    }\n",
       "\n",
       "    .dataframe thead th {\n",
       "        text-align: right;\n",
       "    }\n",
       "</style>\n",
       "<table border=\"1\" class=\"dataframe\">\n",
       "  <thead>\n",
       "    <tr style=\"text-align: right;\">\n",
       "      <th></th>\n",
       "      <th>Value</th>\n",
       "    </tr>\n",
       "  </thead>\n",
       "  <tbody>\n",
       "    <tr>\n",
       "      <th>Materials</th>\n",
       "      <td>33264.0</td>\n",
       "    </tr>\n",
       "    <tr>\n",
       "      <th>materials: natural gas</th>\n",
       "      <td>33264.0</td>\n",
       "    </tr>\n",
       "    <tr>\n",
       "      <th>Equipment</th>\n",
       "      <td>171000.0</td>\n",
       "    </tr>\n",
       "    <tr>\n",
       "      <th>solar panels</th>\n",
       "      <td>105000.0</td>\n",
       "    </tr>\n",
       "    <tr>\n",
       "      <th>generators</th>\n",
       "      <td>30000.0</td>\n",
       "    </tr>\n",
       "    <tr>\n",
       "      <th>batteries</th>\n",
       "      <td>36000.0</td>\n",
       "    </tr>\n",
       "    <tr>\n",
       "      <th>Labor</th>\n",
       "      <td>8550.0</td>\n",
       "    </tr>\n",
       "    <tr>\n",
       "      <th>installation and maintenance</th>\n",
       "      <td>8550.0</td>\n",
       "    </tr>\n",
       "    <tr>\n",
       "      <th>Operations and maintanace</th>\n",
       "      <td>7550.0</td>\n",
       "    </tr>\n",
       "    <tr>\n",
       "      <th>solar arrays maintenance</th>\n",
       "      <td>5250.0</td>\n",
       "    </tr>\n",
       "    <tr>\n",
       "      <th>generators maintenance</th>\n",
       "      <td>1100.0</td>\n",
       "    </tr>\n",
       "    <tr>\n",
       "      <th>batteries maintenance</th>\n",
       "      <td>1200.0</td>\n",
       "    </tr>\n",
       "  </tbody>\n",
       "</table>\n",
       "</div>"
      ],
      "text/plain": [
       "                                 Value\n",
       "Materials                      33264.0\n",
       "materials: natural gas         33264.0\n",
       "Equipment                     171000.0\n",
       "solar panels                  105000.0\n",
       "generators                     30000.0\n",
       "batteries                      36000.0\n",
       "Labor                           8550.0\n",
       "installation and maintenance    8550.0\n",
       "Operations and maintanace       7550.0\n",
       "solar arrays maintenance        5250.0\n",
       "generators maintenance          1100.0\n",
       "batteries maintenance           1200.0"
      ]
     },
     "execution_count": 9,
     "metadata": {},
     "output_type": "execute_result"
    }
   ],
   "source": [
    "df.loc['Operations and maintanace', 'Value'] = SP_om_cost + battery_om_cost + generator_om_cost\n",
    "df.loc['solar arrays maintenance', 'Value'] = SP_om_cost\n",
    "df.loc['generators maintenance', 'Value'] = generator_om_cost\n",
    "df.loc['batteries maintenance', 'Value'] = battery_om_cost\n",
    "\n",
    "df"
   ]
  },
  {
   "cell_type": "code",
   "execution_count": 10,
   "metadata": {},
   "outputs": [],
   "source": [
    "idx = df.index.isin(['Materials', 'Equipment', 'Labor', 'Operations and maintanace'])\n",
    "total_cost = df[idx].sum()[0]"
   ]
  },
  {
   "cell_type": "code",
   "execution_count": 11,
   "metadata": {
    "scrolled": true
   },
   "outputs": [
    {
     "data": {
      "text/plain": [
       "0.05031141552511416"
      ]
     },
     "execution_count": 11,
     "metadata": {},
     "output_type": "execute_result"
    }
   ],
   "source": [
    "total_cost/(100*8760*plan_years)"
   ]
  },
  {
   "cell_type": "markdown",
   "metadata": {},
   "source": [
    "#### In 5 years scenario each household pays 0.05 cents per hour for electricity supply"
   ]
  },
  {
   "cell_type": "code",
   "execution_count": 12,
   "metadata": {
    "scrolled": true
   },
   "outputs": [
    {
     "data": {
      "text/plain": [
       "0.01048154490106545"
      ]
     },
     "execution_count": 12,
     "metadata": {},
     "output_type": "execute_result"
    }
   ],
   "source": [
    "(total_cost/(100*plan_years))/(40*24*8760*plan_years)*1000"
   ]
  },
  {
   "cell_type": "markdown",
   "metadata": {},
   "source": [
    "#### Or 0.01 cents per kilowatt. Let's assume 20% of profit put on top"
   ]
  },
  {
   "cell_type": "code",
   "execution_count": 13,
   "metadata": {
    "scrolled": true
   },
   "outputs": [
    {
     "data": {
      "text/plain": [
       "44072.79999999999"
      ]
     },
     "execution_count": 13,
     "metadata": {},
     "output_type": "execute_result"
    }
   ],
   "source": [
    "en_cost = (total_cost/(100*8760*plan_years))*1.2\n",
    "\n",
    "revenue = en_cost*8760*plan_years*100 - total_cost\n",
    "revenue"
   ]
  },
  {
   "cell_type": "markdown",
   "metadata": {},
   "source": [
    "#### In 5 years we can expect to generate over 44k revenue. How fast will investment 'zeros'? meaning money spent initially will be paid out with no profit made"
   ]
  },
  {
   "cell_type": "code",
   "execution_count": 14,
   "metadata": {
    "scrolled": true
   },
   "outputs": [
    {
     "data": {
      "text/plain": [
       "52887.36"
      ]
     },
     "execution_count": 14,
     "metadata": {},
     "output_type": "execute_result"
    }
   ],
   "source": [
    "# in a year, that it 12 months we get a revenue\n",
    "en_cost*8760*100"
   ]
  },
  {
   "cell_type": "code",
   "execution_count": 15,
   "metadata": {
    "scrolled": true
   },
   "outputs": [
    {
     "data": {
      "text/plain": [
       "50.0"
      ]
     },
     "execution_count": 15,
     "metadata": {},
     "output_type": "execute_result"
    }
   ],
   "source": [
    "# thus we need so much months to return initial investment\n",
    "total_cost*12/(en_cost*8760*100)"
   ]
  },
  {
   "cell_type": "markdown",
   "metadata": {},
   "source": [
    "That is in 4 years with 20% profit margin we can expect to start making pure profit"
   ]
  },
  {
   "cell_type": "code",
   "execution_count": 16,
   "metadata": {
    "scrolled": true
   },
   "outputs": [
    {
     "data": {
      "image/png": "[encoded data removed]",
      "text/plain": [
       "<Figure size 720x720 with 1 Axes>"
      ]
     },
     "metadata": {},
     "output_type": "display_data"
    }
   ],
   "source": [
    "import matplotlib.pylab as plt\n",
    "\n",
    "%matplotlib inline\n",
    "\n",
    "df[idx].plot.pie(y='Value', fontsize=16, legend=False, figsize=(10,10));\n",
    "plt.tight_layout();\n",
    "plt.savefig('cost_breakdown_major.png');"
   ]
  },
  {
   "cell_type": "code",
   "execution_count": 17,
   "metadata": {},
   "outputs": [
    {
     "data": {
      "image/png": "[encoded data removed]",
      "text/plain": [
       "<Figure size 720x720 with 1 Axes>"
      ]
     },
     "metadata": {},
     "output_type": "display_data"
    }
   ],
   "source": [
    "df[~idx].plot.pie(y='Value', fontsize=12, legend=False, figsize=(10,10));\n",
    "plt.tight_layout();\n",
    "plt.savefig('cost_breakdown_minor.png');"
   ]
  },
  {
   "cell_type": "code",
   "execution_count": 18,
   "metadata": {},
   "outputs": [],
   "source": [
    "df['Percentage'] = 100*df.Value/total_cost"
   ]
  },
  {
   "cell_type": "code",
   "execution_count": 19,
   "metadata": {},
   "outputs": [
    {
     "data": {
      "text/html": [
       "<div>\n",
       "<style scoped>\n",
       "    .dataframe tbody tr th:only-of-type {\n",
       "        vertical-align: middle;\n",
       "    }\n",
       "\n",
       "    .dataframe tbody tr th {\n",
       "        vertical-align: top;\n",
       "    }\n",
       "\n",
       "    .dataframe thead th {\n",
       "        text-align: right;\n",
       "    }\n",
       "</style>\n",
       "<table border=\"1\" class=\"dataframe\">\n",
       "  <thead>\n",
       "    <tr style=\"text-align: right;\">\n",
       "      <th></th>\n",
       "      <th>Value</th>\n",
       "      <th>Percentage</th>\n",
       "    </tr>\n",
       "  </thead>\n",
       "  <tbody>\n",
       "    <tr>\n",
       "      <th>Materials</th>\n",
       "      <td>33264.0</td>\n",
       "      <td>15.095025</td>\n",
       "    </tr>\n",
       "    <tr>\n",
       "      <th>materials: natural gas</th>\n",
       "      <td>33264.0</td>\n",
       "      <td>15.095025</td>\n",
       "    </tr>\n",
       "    <tr>\n",
       "      <th>Equipment</th>\n",
       "      <td>171000.0</td>\n",
       "      <td>77.598882</td>\n",
       "    </tr>\n",
       "    <tr>\n",
       "      <th>solar panels</th>\n",
       "      <td>105000.0</td>\n",
       "      <td>47.648436</td>\n",
       "    </tr>\n",
       "    <tr>\n",
       "      <th>generators</th>\n",
       "      <td>30000.0</td>\n",
       "      <td>13.613839</td>\n",
       "    </tr>\n",
       "    <tr>\n",
       "      <th>batteries</th>\n",
       "      <td>36000.0</td>\n",
       "      <td>16.336607</td>\n",
       "    </tr>\n",
       "    <tr>\n",
       "      <th>Labor</th>\n",
       "      <td>8550.0</td>\n",
       "      <td>3.879944</td>\n",
       "    </tr>\n",
       "    <tr>\n",
       "      <th>installation and maintenance</th>\n",
       "      <td>8550.0</td>\n",
       "      <td>3.879944</td>\n",
       "    </tr>\n",
       "    <tr>\n",
       "      <th>Operations and maintanace</th>\n",
       "      <td>7550.0</td>\n",
       "      <td>3.426149</td>\n",
       "    </tr>\n",
       "    <tr>\n",
       "      <th>solar arrays maintenance</th>\n",
       "      <td>5250.0</td>\n",
       "      <td>2.382422</td>\n",
       "    </tr>\n",
       "    <tr>\n",
       "      <th>generators maintenance</th>\n",
       "      <td>1100.0</td>\n",
       "      <td>0.499174</td>\n",
       "    </tr>\n",
       "    <tr>\n",
       "      <th>batteries maintenance</th>\n",
       "      <td>1200.0</td>\n",
       "      <td>0.544554</td>\n",
       "    </tr>\n",
       "  </tbody>\n",
       "</table>\n",
       "</div>"
      ],
      "text/plain": [
       "                                 Value  Percentage\n",
       "Materials                      33264.0   15.095025\n",
       "materials: natural gas         33264.0   15.095025\n",
       "Equipment                     171000.0   77.598882\n",
       "solar panels                  105000.0   47.648436\n",
       "generators                     30000.0   13.613839\n",
       "batteries                      36000.0   16.336607\n",
       "Labor                           8550.0    3.879944\n",
       "installation and maintenance    8550.0    3.879944\n",
       "Operations and maintanace       7550.0    3.426149\n",
       "solar arrays maintenance        5250.0    2.382422\n",
       "generators maintenance          1100.0    0.499174\n",
       "batteries maintenance           1200.0    0.544554"
      ]
     },
     "execution_count": 19,
     "metadata": {},
     "output_type": "execute_result"
    }
   ],
   "source": [
    "df"
   ]
  }
 ],
 "metadata": {
  "kernelspec": {
   "display_name": "Python 3",
   "language": "python",
   "name": "python3"
  },
  "language_info": {
   "codemirror_mode": {
    "name": "ipython",
    "version": 3
   },
   "file_extension": ".py",
   "mimetype": "text/x-python",
   "name": "python",
   "nbconvert_exporter": "python",
   "pygments_lexer": "ipython3",
   "version": "3.7.3"
  }
 },
 "nbformat": 4,
 "nbformat_minor": 4
}
